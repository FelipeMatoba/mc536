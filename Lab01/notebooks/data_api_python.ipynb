{
  "nbformat": 4,
  "nbformat_minor": 0,
  "metadata": {
    "kernelspec": {
      "display_name": "Python 3",
      "language": "python",
      "name": "python3"
    },
    "language_info": {
      "codemirror_mode": {
        "name": "ipython",
        "version": 3
      },
      "file_extension": ".py",
      "mimetype": "text/x-python",
      "name": "python",
      "nbconvert_exporter": "python",
      "pygments_lexer": "ipython3",
      "version": "3.7.8"
    },
    "colab": {
      "name": "data-api-python.ipynb",
      "provenance": [],
      "collapsed_sections": [
        "Dmhcj2-qv0WG",
        "b6Xb7Z31v0WJ",
        "RLA_yUZ5v0WP",
        "rQXntGlzv0WX",
        "jYbTTg6Ov0Wb",
        "G3L5wKMlv0Wg",
        "sMX1pQa-v0Wk"
      ]
    }
  },
  "cells": [
    {
      "cell_type": "markdown",
      "metadata": {
        "id": "Dmhcj2-qv0WG",
        "colab_type": "text"
      },
      "source": [
        "# World Health Organization Data\n",
        "\n",
        "## Global Health Observatory\n",
        "\n",
        "* [Data query API](https://apps.who.int/gho/data/node.resources.api)\n",
        "* [GHO OData API ](https://www.who.int/data/gho/info/gho-odata-api)\n",
        "\n",
        "Exemplos de API: [https://www.who.int/data/gho/info/athena-api-examples](https://www.who.int/data/gho/info/athena-api-examples).\n",
        "\n",
        "Para se determinar o tipo de informação para acesso veja a [lista de dimensões e códigos](https://apps.who.int/gho/athena/api/GHO). Utilize o código disponível no campo `<Code label=\"\">`. Por exemplo, no campo `<Code Label=\"WHOSIS_000001\">` é possível encontrar o código `WHOSIS_000001` que indica `Life expectancy at birth (years)`.\n",
        "\n",
        "Depois de estabelecida a informação, podem ser configurados parâmetros, com o sufixo `?` depois da URL. Os parâmetros são separados por `&`.\n",
        "\n",
        "Os códigos dos países são encontrados em: [https://apps.who.int/gho/athena/api/COUNTRY](https://apps.who.int/gho/athena/api/COUNTRY)."
      ]
    },
    {
      "cell_type": "markdown",
      "metadata": {
        "id": "b6Xb7Z31v0WJ",
        "colab_type": "text"
      },
      "source": [
        "## Importando dados em JSON no Python\n",
        "\n",
        "![JSON](json.png)"
      ]
    },
    {
      "cell_type": "code",
      "metadata": {
        "id": "xEkf2Gv9v0WK",
        "colab_type": "code",
        "colab": {}
      },
      "source": [
        "import io\n",
        "import requests\n",
        "import json\n",
        "url = \"https://apps.who.int/gho/athena/api/GHO/WHOSIS_000001?filter=COUNTRY:BRA&format=json\"\n",
        "js = requests.get(url).content\n",
        "print(js.decode(\"utf-8\"))"
      ],
      "execution_count": null,
      "outputs": []
    },
    {
      "cell_type": "markdown",
      "metadata": {
        "id": "RLA_yUZ5v0WP",
        "colab_type": "text"
      },
      "source": [
        "### Mostrando o Copyright"
      ]
    },
    {
      "cell_type": "code",
      "metadata": {
        "id": "aOn2f3bRv0WQ",
        "colab_type": "code",
        "colab": {},
        "outputId": "d60c4e5f-0a90-4b82-cf28-0714e68f5083"
      },
      "source": [
        "import io\n",
        "import requests\n",
        "import json\n",
        "url = \"https://apps.who.int/gho/athena/api/GHO/WHOSIS_000001?filter=COUNTRY:BRA&format=json\"\n",
        "data = requests.get(url)\n",
        "js = data.json()\n",
        "print(js[\"copyright\"])"
      ],
      "execution_count": null,
      "outputs": [
        {
          "output_type": "stream",
          "text": [
            "(c) World Health Organization\n"
          ],
          "name": "stdout"
        }
      ]
    },
    {
      "cell_type": "markdown",
      "metadata": {
        "id": "rQXntGlzv0WX",
        "colab_type": "text"
      },
      "source": [
        "## Importando dados em CSV no Python\n",
        "\n",
        "![CSV](csv.png)"
      ]
    },
    {
      "cell_type": "code",
      "metadata": {
        "id": "vWXWuP9fv0WY",
        "colab_type": "code",
        "colab": {}
      },
      "source": [
        "import pandas as pd\n",
        "import io\n",
        "import requests\n",
        "url = \"https://apps.who.int/gho/athena/api/GHO/WHOSIS_000001?filter=COUNTRY:BRA&format=csv\"\n",
        "data = requests.get(url).content\n",
        "csv = pd.read_csv(io.StringIO(data.decode(\"utf-8\")))\n",
        "print(csv)"
      ],
      "execution_count": null,
      "outputs": []
    },
    {
      "cell_type": "markdown",
      "metadata": {
        "id": "jYbTTg6Ov0Wb",
        "colab_type": "text"
      },
      "source": [
        "# Mostrando o Copyright"
      ]
    },
    {
      "cell_type": "code",
      "metadata": {
        "id": "zRUMMEUXv0Wd",
        "colab_type": "code",
        "colab": {}
      },
      "source": [
        ""
      ],
      "execution_count": null,
      "outputs": []
    },
    {
      "cell_type": "markdown",
      "metadata": {
        "id": "G3L5wKMlv0Wg",
        "colab_type": "text"
      },
      "source": [
        "# Importando dados em XML no Python\n",
        "\n",
        "![XML](xml.png)"
      ]
    },
    {
      "cell_type": "code",
      "metadata": {
        "id": "_lOIJzTFv0Wh",
        "colab_type": "code",
        "colab": {},
        "outputId": "fdfdeab6-488e-4227-898d-5ae067d1a47b"
      },
      "source": [
        "import io\n",
        "import requests\n",
        "import xml.etree.ElementTree as et\n",
        "url = \"https://apps.who.int/gho/athena/api/GHO/WHOSIS_000001?filter=COUNTRY:BRA\"\n",
        "data = requests.get(url).content\n",
        "x = et.parse(io.StringIO(data.decode(\"utf-8\")))\n",
        "print(x)"
      ],
      "execution_count": null,
      "outputs": [
        {
          "output_type": "stream",
          "text": [
            "<xml.etree.ElementTree.ElementTree object at 0x7ff5cb490b50>\n"
          ],
          "name": "stdout"
        }
      ]
    },
    {
      "cell_type": "markdown",
      "metadata": {
        "id": "sMX1pQa-v0Wk",
        "colab_type": "text"
      },
      "source": [
        "# Mostrando o Copyright"
      ]
    },
    {
      "cell_type": "markdown",
      "metadata": {
        "id": "ZeklupUwv0Wk",
        "colab_type": "text"
      },
      "source": [
        "# Tarefa 1\n",
        "\n",
        "Das fontes de dados disponíveis, tente encontrar fontes com formatos diferentes e importá-las via Python. Busque pelo menos dois formatos."
      ]
    },
    {
      "cell_type": "code",
      "metadata": {
        "trusted": true,
        "id": "cz8QSiR9v0Wl",
        "colab_type": "code",
        "colab": {
          "base_uri": "https://localhost:8080/",
          "height": 34
        },
        "outputId": "177982a3-7a22-4747-b833-c234ab6d614d"
      },
      "source": [
        "import io\n",
        "import requests\n",
        "import json\n",
        "url = \"https://covid19-stats-api.herokuapp.com/api/v1/cases?country=Brazil\"\n",
        "data = requests.get(url)\n",
        "js = data.json()\n",
        "print(js)"
      ],
      "execution_count": null,
      "outputs": [
        {
          "output_type": "stream",
          "text": [
            "{'confirmed': 4727271, 'deaths': 152918, 'recovered': 4257877}\n"
          ],
          "name": "stdout"
        }
      ]
    },
    {
      "cell_type": "code",
      "metadata": {
        "id": "-5XxhfSIv0Wp",
        "colab_type": "code",
        "colab": {
          "base_uri": "https://localhost:8080/",
          "height": 1000
        },
        "outputId": "21218866-290c-4476-b0cf-a92c1946c604"
      },
      "source": [
        "import io\n",
        "import requests\n",
        "import xml.etree.ElementTree as et\n",
        "url = \"https://health-products.canada.ca/api/drug/activeingredient/?id=48905&type=xml\"\n",
        "data = requests.get(url).content\n",
        "x = et.parse(io.StringIO(data.decode(\"utf-8\")))\n",
        "for elem in x.iter():\n",
        " print(elem.text)\n",
        "\n",
        "\n",
        "  "
      ],
      "execution_count": 2,
      "outputs": [
        {
          "output_type": "stream",
          "text": [
            "None\n",
            "None\n",
            "None\n",
            "None\n",
            "48905\n",
            "VITAMIN A\n",
            "1250\n",
            "UNIT\n",
            "None\n",
            "None\n",
            "None\n",
            "48905\n",
            "BETA-CAROTENE (PROVITAMIN A)\n",
            "2916\n",
            "UNIT\n",
            "None\n",
            "None\n",
            "None\n",
            "48905\n",
            "VITAMIN B1\n",
            "2.25\n",
            "MG\n",
            "None\n",
            "None\n",
            "None\n",
            "48905\n",
            "VITAMIN B2\n",
            "3.75\n",
            "MG\n",
            "None\n",
            "None\n",
            "None\n",
            "48905\n",
            "NICOTINAMIDE\n",
            "20\n",
            "MG\n",
            "None\n",
            "None\n",
            "None\n",
            "48905\n",
            "VITAMIN B6\n",
            "5\n",
            "MG\n",
            "None\n",
            "None\n",
            "None\n",
            "48905\n",
            "D-PANTOTHENIC ACID\n",
            "10\n",
            "MG\n",
            "None\n",
            "None\n",
            "None\n",
            "48905\n",
            "FOLIC ACID\n",
            "0.2\n",
            "MG\n",
            "None\n",
            "None\n",
            "None\n",
            "48905\n",
            "BIOTIN\n",
            "75\n",
            "MCG\n",
            "None\n",
            "None\n",
            "None\n",
            "48905\n",
            "VITAMIN B12\n",
            "9\n",
            "MCG\n",
            "None\n",
            "None\n",
            "None\n",
            "48905\n",
            "ASCORBIC ACID\n",
            "125\n",
            "MG\n",
            "None\n",
            "None\n",
            "None\n",
            "48905\n",
            "VITAMIN D2 (VITAMIN D2)\n",
            "200\n",
            "UNIT\n",
            "None\n",
            "None\n",
            "None\n",
            "48905\n",
            "VITAMIN E\n",
            "200\n",
            "UNIT\n",
            "None\n",
            "None\n",
            "None\n",
            "48905\n",
            "CHOLINE\n",
            "5\n",
            "MG\n",
            "None\n",
            "None\n",
            "None\n",
            "48905\n",
            "INOSITOL\n",
            "5\n",
            "MG\n",
            "None\n",
            "None\n",
            "None\n",
            "48905\n",
            "COPPER (CUPRIC OXIDE)\n",
            "1.5\n",
            "MG\n",
            "None\n",
            "None\n",
            "None\n",
            "48905\n",
            "IODINE (POTASSIUM IODIDE)\n",
            "0.075\n",
            "MG\n",
            "None\n",
            "None\n",
            "None\n",
            "48905\n",
            "CHROMIUM\n",
            "0.5\n",
            "MCG\n",
            "None\n",
            "None\n",
            "None\n",
            "48905\n",
            "MANGANESE (MANGANESE GLUCONATE)\n",
            "1.25\n",
            "MG\n",
            "None\n",
            "None\n",
            "None\n",
            "48905\n",
            "MOLYBDENUM (MOLYBDENUM PROTEINATE)\n",
            "2.5\n",
            "MG\n",
            "None\n",
            "None\n",
            "None\n",
            "48905\n",
            "POTASSIUM (POTASSIUM CHLORIDE)\n",
            "15\n",
            "MG\n",
            "None\n",
            "None\n",
            "None\n",
            "48905\n",
            "SELENIUM\n",
            "100\n",
            "MCG\n",
            "None\n",
            "None\n",
            "None\n",
            "48905\n",
            "ZINC (ZINC GLUCONATE)\n",
            "7.5\n",
            "MG\n"
          ],
          "name": "stdout"
        }
      ]
    },
    {
      "cell_type": "markdown",
      "metadata": {
        "id": "b3NGR3wKv0Ws",
        "colab_type": "text"
      },
      "source": [
        "# Tarefa 2\n",
        "\n",
        "## Engenharia reversa\n",
        "\n",
        "Monte um diagramas que representem modelos dos dados que você terá acesso e como pretende associá-los. Coloque abaixo uma imagem do diagrama."
      ]
    },
    {
      "cell_type": "code",
      "metadata": {
        "id": "xTM8Pn1bv0Ws",
        "colab_type": "code",
        "colab": {}
      },
      "source": [
        ""
      ],
      "execution_count": null,
      "outputs": []
    }
  ]
}