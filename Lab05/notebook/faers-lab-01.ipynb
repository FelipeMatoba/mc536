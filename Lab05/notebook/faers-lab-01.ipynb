{
 "cells": [
  {
   "cell_type": "code",
   "execution_count": 1,
   "metadata": {
    "colab": {
     "base_uri": "https://localhost:8080/"
    },
    "executionInfo": {
     "elapsed": 1120,
     "status": "error",
     "timestamp": 1604667735151,
     "user": {
      "displayName": "Felipe Hideki Matoba",
      "photoUrl": "",
      "userId": "16775521624948640088"
     },
     "user_tz": 180
    },
    "id": "Od9OdoXMpdO3",
    "outputId": "3ad33020-c3ba-4787-d41f-3fbc7501dce3"
   },
   "outputs": [],
   "source": [
    "%defaultDatasource jdbc:h2:mem:db"
   ]
  },
  {
   "cell_type": "code",
   "execution_count": 2,
   "metadata": {
    "id": "TzMAMXzApdO_"
   },
   "outputs": [],
   "source": [
    "DROP TABLE IF EXISTS Drug;\n",
    "DROP TABLE IF EXISTS Pathology;\n",
    "DROP TABLE IF EXISTS DrugUse;\n",
    "\n",
    "CREATE TABLE Drug (\n",
    "  code INT NOT NULL,\n",
    "  name VARCHAR(200) NOT NULL,\n",
    "  PRIMARY KEY(code)\n",
    ") AS SELECT\n",
    "    code,\n",
    "    name\n",
    "FROM CSVREAD('../../../data/faers-2017/drug.csv');\n",
    "\n",
    "CREATE TABLE Pathology (\n",
    "  code INT NOT NULL,\n",
    "  name VARCHAR(200) NOT NULL,\n",
    "  PRIMARY KEY(code)\n",
    ") AS SELECT\n",
    "    code,\n",
    "    name\n",
    "FROM CSVREAD('../../../data/faers-2017/pathology.csv');\n",
    "\n",
    "CREATE TABLE DrugUse (\n",
    "  idPerson INT NOT NULL,\n",
    "  codePathology INT NOT NULL,\n",
    "  codeDrug INT NOT NULL,\n",
    "  FOREIGN KEY(codePathology)\n",
    "    REFERENCES Pathology(code)\n",
    "      ON DELETE NO ACTION\n",
    "      ON UPDATE NO ACTION,\n",
    "  FOREIGN KEY(codeDrug)\n",
    "    REFERENCES Drug(code)\n",
    "      ON DELETE NO ACTION\n",
    "      ON UPDATE NO ACTION,\n",
    ") AS SELECT\n",
    "    idPerson,\n",
    "    codePathology,\n",
    "    codeDrug\n",
    "FROM CSVREAD('../../../data/faers-2017/drug-use.csv');\n",
    "\n",
    "CREATE TABLE SideEffect(\n",
    "  idPerson INT NOT NULL,\n",
    "  codePathology INT NOT NULL,\n",
    "  FOREIGN KEY(codePathology)\n",
    "    REFERENCES Pathology(code)\n",
    "      ON DELETE NO ACTION\n",
    "      ON UPDATE NO ACTION\n",
    ") AS SELECT idPerson, codePathology\n",
    "FROM CSVREAD('../../../data/faers-2017/sideeffect.csv');"
   ]
  },
  {
   "cell_type": "code",
   "execution_count": null,
   "metadata": {
    "colab": {
     "referenced_widgets": [
      "9f8c8861-6704-49ca-a8f9-2a39b32a9e88",
      "c90df8f0-3fad-4b5d-85af-85013654ba42",
      "a6eb6d41-1a61-4b71-b3bb-30d1a1d14749",
      "ebfebdb6-d1b1-47f8-abf4-16b9f8ad98dd"
     ]
    },
    "id": "xuhE30FZpdPF",
    "outputId": "24a7b525-3a6e-47f5-fe95-0a5235c955a5"
   },
   "outputs": [],
   "source": [
    "SELECT * FROM Drug;\n",
    "SELECT * FROM Pathology;\n",
    "SELECT * FROM DrugUse;\n",
    "SELECT * FROM SideEffect;"
   ]
  },
  {
   "cell_type": "markdown",
   "metadata": {
    "id": "GeIdiqD1pdPK"
   },
   "source": [
    "# FDA Adverse Event Reporting System (FAERS)\n",
    "\n",
    "Considere a base de dados que reúne relatos de efeitos adversos de drogas: [FDA Adverse Event Reporting System (FAERS)](https://open.fda.gov/data/faers/).\n",
    "\n",
    "As fontes de dados são publicadas e documentadas em: [Latest Quarterly Data Files](https://www.fda.gov/drugs/fda-adverse-event-reporting-system-faers/fda-adverse-event-reporting-system-faers-latest-quarterly-data-files)"
   ]
  },
  {
   "cell_type": "markdown",
   "metadata": {
    "id": "8L3sjwqspdPL"
   },
   "source": [
    "# Interação entre medicamentos\n",
    "Considere como uma interação toda vez que um medicamento A é tomado em conjunto com um medicamento B por uma pessoa. Crie uma consulta que retorne para cada par de medicamento A,B o número de interações, somente para aqueles medicamentos que são tomados em conjunto mais de 30 vezes (passaremos a chamar de **grupo mais 30**)."
   ]
  },
  {
   "cell_type": "code",
   "execution_count": 3,
   "metadata": {
    "id": "V_Dk-TnipdPN"
   },
   "outputs": [
    {
     "data": {
      "application/vnd.jupyter.widget-view+json": {
       "model_id": "7d3341bd-7312-4579-9361-ceeab67ef1b1",
       "version_major": 2,
       "version_minor": 0
      },
      "method": "display_data"
     },
     "metadata": {},
     "output_type": "display_data"
    }
   ],
   "source": [
    "DROP TABLE IF EXISTS interacao;\n",
    "\n",
    "CREATE VIEW interacao AS\n",
    "SELECT DU1.codeDrug drug1, DU2.codeDrug drug2, COUNT (*) num\n",
    "FROM DrugUse DU1, DrugUse DU2\n",
    "WHERE DU1.idPerson = DU2.idPerson AND DU1.codeDrug < DU2.codeDrug\n",
    "GROUP BY DU1.codeDrug, DU2.codeDrug;\n",
    "\n",
    "SELECT * FROM interacao WHERE num > 30;"
   ]
  },
  {
   "cell_type": "markdown",
   "metadata": {
    "id": "_E2k2V8opdPS"
   },
   "source": [
    "## Tabela Resultante\n",
    "\n",
    "Se estiver demorando muito para gerar a tabela, você poderá usar a seguinte tabela resultante pronta. Essa tabela tem todas as interações, você ainda precisará filtrar o **grupo mais 30**."
   ]
  },
  {
   "cell_type": "code",
   "execution_count": null,
   "metadata": {
    "colab": {
     "referenced_widgets": [
      "a26468b9-7984-4c42-9083-c5d29935c620"
     ]
    },
    "id": "3gCcag2zpdPS",
    "outputId": "e62e051b-fa09-4b40-b22f-0ade5933027c"
   },
   "outputs": [],
   "source": [
    "CREATE TABLE DrugInteraction (\n",
    "  druga INT NOT NULL,\n",
    "  drugb INT NOT NULL,\n",
    "  weight INT NOT NULL,\n",
    "  PRIMARY KEY(druga, drugb)\n",
    ") AS SELECT\n",
    "    druga,\n",
    "    drugb,\n",
    "    weight\n",
    "FROM CSVREAD('../../../data/faers-2017/results/drug-interaction.csv');\n",
    "\n",
    "SELECT * FROM DrugInteraction;"
   ]
  },
  {
   "cell_type": "code",
   "execution_count": null,
   "metadata": {},
   "outputs": [],
   "source": [
    "SELECT * FROM DrugInteraction WHERE weight > 30;"
   ]
  },
  {
   "cell_type": "markdown",
   "metadata": {
    "id": "dYDxI3GLpdPn"
   },
   "source": [
    "# Suporte\n",
    "\n",
    "### Qual o suporte que cada uma das associações tem?\n",
    "\n",
    "Gere uma consulta que apresente o suporte do **grupo mais 30**. Ordene o resultado por ordem de suporte. \n",
    "\n",
    "Observação: Para que o resultado da divisão seja fracionária, converta o numerador em `DOUBLE` usando:\n",
    "~~~sql\n",
    "CAST(campo AS DOUBLE)\n",
    "~~~"
   ]
  },
  {
   "cell_type": "code",
   "execution_count": 5,
   "metadata": {},
   "outputs": [
    {
     "data": {
      "application/vnd.jupyter.widget-view+json": {
       "model_id": "08476d32-c194-458b-a8c7-f5c95972fb91",
       "version_major": 2,
       "version_minor": 0
      },
      "method": "display_data"
     },
     "metadata": {},
     "output_type": "display_data"
    }
   ],
   "source": [
    "SELECT DI.druga, DI.drugb, cast(DI.weight AS DOUBLE)/(SELECT SUM(weight) FROM DrugInteraction) suporte\n",
    "FROM (SELECT * FROM DrugInteraction WHERE weight > 30) DI\n",
    "GROUP BY DI.druga, DI.drugb\n",
    "ORDER BY suporte;"
   ]
  },
  {
   "cell_type": "markdown",
   "metadata": {
    "id": "mAooZJXCpdPv"
   },
   "source": [
    "# Confiança\n",
    "\n",
    "### Qual a confiança que cada uma das associações tem?\n",
    "\n",
    "Gere uma consulta que apresente a confiança do **grupo mais 30**. Ordene o resultado por ordem de confiança."
   ]
  },
  {
   "cell_type": "code",
   "execution_count": 6,
   "metadata": {
    "id": "gU0LrMKBpdPw"
   },
   "outputs": [],
   "source": [
    "DROP TABLE IF EXISTS total_interactions;\n",
    "\n",
    "CREATE VIEW total_interactions AS\n",
    "SELECT total_a.druga, (total_a.soma + total_b.soma) soma\n",
    "FROM (SELECT druga, SUM(weight) soma\n",
    "      FROM DrugInteraction \n",
    "      GROUP BY druga) total_a,\n",
    "     (SELECT drugb, SUM(weight) soma\n",
    "      FROM DrugInteraction \n",
    "      GROUP BY drugb) total_b\n",
    "WHERE total_a.druga = total_b.drugb\n",
    "GROUP BY total_a.druga;"
   ]
  },
  {
   "cell_type": "code",
   "execution_count": 7,
   "metadata": {},
   "outputs": [
    {
     "data": {
      "application/vnd.jupyter.widget-view+json": {
       "model_id": "ce42d07e-0e9b-4c90-8f8b-cc4a6e4be94c",
       "version_major": 2,
       "version_minor": 0
      },
      "method": "display_data"
     },
     "metadata": {},
     "output_type": "display_data"
    }
   ],
   "source": [
    "SELECT DI.druga, DI.drugb, cast(DI.weight AS DOUBLE)/TI.soma confianca\n",
    "FROM (SELECT * FROM DrugInteraction WHERE weight > 30) DI, total_interactions TI\n",
    "WHERE DI.druga = TI.druga \n",
    "GROUP BY DI.druga, DI.drugb\n",
    "ORDER BY confianca;"
   ]
  },
  {
   "cell_type": "code",
   "execution_count": 8,
   "metadata": {},
   "outputs": [
    {
     "data": {
      "application/vnd.jupyter.widget-view+json": {
       "model_id": "f0bab7e9-bb44-4841-9061-2b8f80fea6ed",
       "version_major": 2,
       "version_minor": 0
      },
      "method": "display_data"
     },
     "metadata": {},
     "output_type": "display_data"
    }
   ],
   "source": [
    "SELECT DI.drugb, DI.druga, cast(DI.weight AS DOUBLE)/TI.soma confianca\n",
    "FROM (SELECT * FROM DrugInteraction WHERE weight > 30) DI, total_interactions TI\n",
    "WHERE DI.drugb = TI.druga \n",
    "GROUP BY DI.druga, DI.drugb\n",
    "ORDER BY confianca;"
   ]
  },
  {
   "cell_type": "markdown",
   "metadata": {
    "id": "jtR0XEhwpdPz"
   },
   "source": [
    "# Efeito Colateral\n",
    "\n",
    "Para cada medicamento, qual o percentual do medicamento A que tem efeito colateral junto com o medicamento B, quando comparado com seu uso sem o medicamento B."
   ]
  },
  {
   "cell_type": "code",
   "execution_count": null,
   "metadata": {
    "id": "kvf8I-zlpdP0"
   },
   "outputs": [],
   "source": [
    "CREATE VIEW colateral AS\n",
    "SELECT DU.idPerson Pessoa, DU.codeDrug\n",
    "FROM DrugUse DU, SideEffect SE\n",
    "WHERE DU.idPerson = SE.idPerson"
   ]
  },
  {
   "cell_type": "code",
   "execution_count": null,
   "metadata": {},
   "outputs": [],
   "source": [
    "DROP TABLE IF EXISTS drug_a_users;\n",
    "DROP TABLE IF EXISTS drug_b_users;\n",
    "\n",
    "CREATE VIEW drug_a_users AS\n",
    "SELECT DISTINCT c1.Pessoa, c1.codeDrug\n",
    "FROM colateral c1, (SELECT * FROM DrugInteraction WHERE weight > 30) interacao\n",
    "WHERE c1.codeDrug = interacao.druga;\n",
    "\n",
    "CREATE VIEW drug_b_users AS\n",
    "SELECT DISTINCT c1.Pessoa, c1.codeDrug\n",
    "FROM colateral c1, (SELECT * FROM DrugInteraction WHERE weight > 30) interacao\n",
    "WHERE c1.codeDrug = interacao.drugb;"
   ]
  },
  {
   "cell_type": "code",
   "execution_count": null,
   "metadata": {},
   "outputs": [],
   "source": [
    "DROP TABLE IF EXISTS uso_conjunto;\n",
    "\n",
    "CREATE VIEW uso_conjunto AS\n",
    "SELECT da.Pessoa, da.codeDrug d1, db.codeDrug d2\n",
    "FROM  drug_a_users da, drug_b_users db, (SELECT * FROM DrugInteraction WHERE weight > 30) DI\n",
    "WHERE da.codeDrug = DI.druga AND db.codeDrug = DI.drugb\n",
    "GROUP BY da.Pessoa, db.codeDrug, da.codeDrug;\n",
    "\n",
    "SELECT * FROM uso_conjunto;"
   ]
  },
  {
   "cell_type": "code",
   "execution_count": null,
   "metadata": {},
   "outputs": [],
   "source": []
  }
 ],
 "metadata": {
  "colab": {
   "name": "faers-lab-01.ipynb",
   "provenance": []
  },
  "kernelspec": {
   "display_name": "SQL",
   "language": "SQL",
   "name": "sql"
  },
  "language_info": {
   "codemirror_mode": "sql",
   "file_extension": ".sql",
   "mimetype": "",
   "name": "SQL",
   "nbconverter_exporter": "",
   "version": ""
  },
  "toc": {
   "base_numbering": 1,
   "nav_menu": {},
   "number_sections": false,
   "sideBar": false,
   "skip_h1_title": false,
   "title_cell": "Table of Contents",
   "title_sidebar": "Contents",
   "toc_cell": false,
   "toc_position": {},
   "toc_section_display": false,
   "toc_window_display": false
  }
 },
 "nbformat": 4,
 "nbformat_minor": 4
}
